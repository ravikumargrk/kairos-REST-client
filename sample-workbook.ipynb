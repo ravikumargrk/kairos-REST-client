{
 "cells": [
  {
   "cell_type": "code",
   "execution_count": 1,
   "metadata": {},
   "outputs": [],
   "source": [
    "import kairosClient"
   ]
  },
  {
   "cell_type": "code",
   "execution_count": 2,
   "metadata": {},
   "outputs": [],
   "source": [
    "myTags = [\n",
    "    'CEN1_PT2_7_SCALE_PV',\n",
    "    'CEN1_TOTALISE_FUEL_FLOW',\n",
    "    'CEN1_TOTAL_STEAM',\n",
    "    'CEN1_TE1_5_SCALE_PV',\n",
    "    'CEN1_TE2_8_SCALE_PV',\n",
    "    'CEN1_BOILER_LOAD',\n",
    "    'CEN1_FEED_WATER_FLOW',\n",
    "    'CEN1_TE1_5_SCALE_PV',\n",
    "    'CEN1_PT2_7_SCALE_PV',\n",
    "    'CEN1_FT2_14A_SCALE_PV',\n",
    "    'CEN1_LT2_4_SCALE_PV'\n",
    "]\n",
    "\n",
    "startTimeISO = '2023-03-22T00:00:00+05:30'\n",
    "endTimeISO   = '2023-03-23T00:00:00+05:30'"
   ]
  },
  {
   "cell_type": "code",
   "execution_count": 3,
   "metadata": {},
   "outputs": [],
   "source": [
    "myData = kairosClient.downloader(myTags, startTimeISO, endTimeISO)"
   ]
  },
  {
   "cell_type": "code",
   "execution_count": 5,
   "metadata": {},
   "outputs": [],
   "source": [
    "kairosClient.save(myData, '.')"
   ]
  },
  {
   "cell_type": "code",
   "execution_count": null,
   "metadata": {},
   "outputs": [],
   "source": []
  }
 ],
 "metadata": {
  "kernelspec": {
   "display_name": "Python 3",
   "language": "python",
   "name": "python3"
  },
  "language_info": {
   "codemirror_mode": {
    "name": "ipython",
    "version": 3
   },
   "file_extension": ".py",
   "mimetype": "text/x-python",
   "name": "python",
   "nbconvert_exporter": "python",
   "pygments_lexer": "ipython3",
   "version": "3.7.9"
  },
  "orig_nbformat": 4
 },
 "nbformat": 4,
 "nbformat_minor": 2
}
